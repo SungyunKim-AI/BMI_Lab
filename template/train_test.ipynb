{
 "cells": [
  {
   "cell_type": "code",
   "execution_count": 1,
   "metadata": {},
   "outputs": [],
   "source": [
    "from nEMGNet import nEMGNet\n",
    "import torch\n",
    "import pandas as pd"
   ]
  },
  {
   "cell_type": "markdown",
   "metadata": {},
   "source": [
    "# Dataset"
   ]
  },
  {
   "cell_type": "code",
   "execution_count": 7,
   "metadata": {},
   "outputs": [
    {
     "data": {
      "text/html": [
       "<div>\n",
       "<style scoped>\n",
       "    .dataframe tbody tr th:only-of-type {\n",
       "        vertical-align: middle;\n",
       "    }\n",
       "\n",
       "    .dataframe tbody tr th {\n",
       "        vertical-align: top;\n",
       "    }\n",
       "\n",
       "    .dataframe thead th {\n",
       "        text-align: right;\n",
       "    }\n",
       "</style>\n",
       "<table border=\"1\" class=\"dataframe\">\n",
       "  <thead>\n",
       "    <tr style=\"text-align: right;\">\n",
       "      <th></th>\n",
       "      <th>stay_id</th>\n",
       "      <th>sub_index</th>\n",
       "      <th>file_name</th>\n",
       "      <th>anatomy</th>\n",
       "      <th>LR</th>\n",
       "      <th>label</th>\n",
       "    </tr>\n",
       "  </thead>\n",
       "  <tbody>\n",
       "    <tr>\n",
       "      <th>0</th>\n",
       "      <td>0</td>\n",
       "      <td>0</td>\n",
       "      <td>0_0_0.p</td>\n",
       "      <td>VAST MEDIALIS</td>\n",
       "      <td>L</td>\n",
       "      <td>mn</td>\n",
       "    </tr>\n",
       "    <tr>\n",
       "      <th>1</th>\n",
       "      <td>0</td>\n",
       "      <td>0</td>\n",
       "      <td>0_0_1.p</td>\n",
       "      <td>VAST MEDIALIS</td>\n",
       "      <td>L</td>\n",
       "      <td>mn</td>\n",
       "    </tr>\n",
       "    <tr>\n",
       "      <th>2</th>\n",
       "      <td>0</td>\n",
       "      <td>0</td>\n",
       "      <td>0_0_2.p</td>\n",
       "      <td>VAST MEDIALIS</td>\n",
       "      <td>L</td>\n",
       "      <td>mn</td>\n",
       "    </tr>\n",
       "    <tr>\n",
       "      <th>3</th>\n",
       "      <td>0</td>\n",
       "      <td>0</td>\n",
       "      <td>0_0_3.p</td>\n",
       "      <td>VAST MEDIALIS</td>\n",
       "      <td>L</td>\n",
       "      <td>mn</td>\n",
       "    </tr>\n",
       "    <tr>\n",
       "      <th>4</th>\n",
       "      <td>0</td>\n",
       "      <td>1</td>\n",
       "      <td>0_1_0.p</td>\n",
       "      <td>TIB ANTERIOR</td>\n",
       "      <td>L</td>\n",
       "      <td>mn</td>\n",
       "    </tr>\n",
       "    <tr>\n",
       "      <th>...</th>\n",
       "      <td>...</td>\n",
       "      <td>...</td>\n",
       "      <td>...</td>\n",
       "      <td>...</td>\n",
       "      <td>...</td>\n",
       "      <td>...</td>\n",
       "    </tr>\n",
       "    <tr>\n",
       "      <th>157639</th>\n",
       "      <td>7031</td>\n",
       "      <td>3</td>\n",
       "      <td>7031_2_7.p</td>\n",
       "      <td>FIRST D INTEROSS</td>\n",
       "      <td>L</td>\n",
       "      <td>nl</td>\n",
       "    </tr>\n",
       "    <tr>\n",
       "      <th>157640</th>\n",
       "      <td>7031</td>\n",
       "      <td>4</td>\n",
       "      <td>7031_3_0.p</td>\n",
       "      <td>FIRST D INTEROSS</td>\n",
       "      <td>R</td>\n",
       "      <td>nl</td>\n",
       "    </tr>\n",
       "    <tr>\n",
       "      <th>157641</th>\n",
       "      <td>7031</td>\n",
       "      <td>4</td>\n",
       "      <td>7031_3_1.p</td>\n",
       "      <td>FIRST D INTEROSS</td>\n",
       "      <td>R</td>\n",
       "      <td>nl</td>\n",
       "    </tr>\n",
       "    <tr>\n",
       "      <th>157642</th>\n",
       "      <td>7031</td>\n",
       "      <td>4</td>\n",
       "      <td>7031_3_2.p</td>\n",
       "      <td>FIRST D INTEROSS</td>\n",
       "      <td>R</td>\n",
       "      <td>nl</td>\n",
       "    </tr>\n",
       "    <tr>\n",
       "      <th>157643</th>\n",
       "      <td>7031</td>\n",
       "      <td>4</td>\n",
       "      <td>7031_3_3.p</td>\n",
       "      <td>FIRST D INTEROSS</td>\n",
       "      <td>R</td>\n",
       "      <td>nl</td>\n",
       "    </tr>\n",
       "  </tbody>\n",
       "</table>\n",
       "<p>157644 rows × 6 columns</p>\n",
       "</div>"
      ],
      "text/plain": [
       "        stay_id  sub_index   file_name           anatomy LR label\n",
       "0             0          0     0_0_0.p     VAST MEDIALIS  L    mn\n",
       "1             0          0     0_0_1.p     VAST MEDIALIS  L    mn\n",
       "2             0          0     0_0_2.p     VAST MEDIALIS  L    mn\n",
       "3             0          0     0_0_3.p     VAST MEDIALIS  L    mn\n",
       "4             0          1     0_1_0.p      TIB ANTERIOR  L    mn\n",
       "...         ...        ...         ...               ... ..   ...\n",
       "157639     7031          3  7031_2_7.p  FIRST D INTEROSS  L    nl\n",
       "157640     7031          4  7031_3_0.p  FIRST D INTEROSS  R    nl\n",
       "157641     7031          4  7031_3_1.p  FIRST D INTEROSS  R    nl\n",
       "157642     7031          4  7031_3_2.p  FIRST D INTEROSS  R    nl\n",
       "157643     7031          4  7031_3_3.p  FIRST D INTEROSS  R    nl\n",
       "\n",
       "[157644 rows x 6 columns]"
      ]
     },
     "execution_count": 7,
     "metadata": {},
     "output_type": "execute_result"
    }
   ],
   "source": [
    "cohort = pd.read_parquet('/nEMG/data/sv90060/cohort_with_anatomy.parquet', engine='pyarrow')\n",
    "cohort"
   ]
  },
  {
   "cell_type": "code",
   "execution_count": 8,
   "metadata": {},
   "outputs": [
    {
     "data": {
      "text/plain": [
       "rd    66462\n",
       "nl    54725\n",
       "fn    24550\n",
       "mn     4541\n",
       "pn     3107\n",
       "bp     2583\n",
       "sm     1676\n",
       "Name: label, dtype: int64"
      ]
     },
     "execution_count": 8,
     "metadata": {},
     "output_type": "execute_result"
    }
   ],
   "source": [
    "cohort['label'].value_counts()"
   ]
  },
  {
   "cell_type": "code",
   "execution_count": 20,
   "metadata": {},
   "outputs": [
    {
     "name": "stdout",
     "output_type": "stream",
     "text": [
      "157644 684\n"
     ]
    }
   ],
   "source": [
    "from glob import glob\n",
    "import os\n",
    "\n",
    "file_list = cohort['file_name']\n",
    "pick_file_list = glob('/nEMG/data/sv90060/wav/*')\n",
    "\n",
    "exist_cnt, no_cnt = 0, 0\n",
    "no_file_path = []\n",
    "for path in pick_file_list:\n",
    "    file_name = os.path.basename(path)\n",
    "    \n",
    "    if any(file_list==file_name):\n",
    "        exist_cnt += 1\n",
    "    else:\n",
    "        no_file_path.append(path)\n",
    "        no_cnt += 1\n",
    "\n",
    "print(exist_cnt, no_cnt)\n",
    "        "
   ]
  },
  {
   "cell_type": "code",
   "execution_count": 10,
   "metadata": {},
   "outputs": [
    {
     "data": {
      "text/plain": [
       "NL    60902\n",
       "Rd    43561\n",
       "FN    23471\n",
       "MN    17822\n",
       "PN     7979\n",
       "Bp     2378\n",
       "SM     1531\n",
       "Name: prev_label, dtype: int64"
      ]
     },
     "execution_count": 10,
     "metadata": {},
     "output_type": "execute_result"
    }
   ],
   "source": [
    "prev_cohort['prev_label'].value_counts()"
   ]
  }
 ],
 "metadata": {
  "kernelspec": {
   "display_name": "Python 3",
   "language": "python",
   "name": "python3"
  },
  "language_info": {
   "codemirror_mode": {
    "name": "ipython",
    "version": 3
   },
   "file_extension": ".py",
   "mimetype": "text/x-python",
   "name": "python",
   "nbconvert_exporter": "python",
   "pygments_lexer": "ipython3",
   "version": "3.8.10"
  }
 },
 "nbformat": 4,
 "nbformat_minor": 2
}
